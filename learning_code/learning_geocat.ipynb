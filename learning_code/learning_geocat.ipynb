{
 "cells": [
  {
   "cell_type": "code",
   "execution_count": 7,
   "metadata": {},
   "outputs": [],
   "source": [
    "# Imports\n",
    "import numpy as np\n",
    "import xarray as xr\n",
    "import cartopy.crs as ccrs\n",
    "import matplotlib.pyplot as plt\n",
    "import cartopy.feature as cfeature\n",
    "from cartopy.mpl.gridliner import LongitudeFormatter, LatitudeFormatter\n",
    "import mplleaflet\n",
    "\n",
    "import geocat.datafiles as gdf\n",
    "import geocat.viz as gv"
   ]
  },
  {
   "cell_type": "code",
   "execution_count": 8,
   "metadata": {},
   "outputs": [],
   "source": [
    "# Open a netCDF data file using xarray default engine and load the data into xarrays, choosing the 2nd timestamp\n",
    "ds = xr.open_dataset(gdf.get(\"netcdf_files/uv300.nc\")).isel(time=1)"
   ]
  },
  {
   "cell_type": "code",
   "execution_count": 13,
   "metadata": {},
   "outputs": [
    {
     "ename": "AttributeError",
     "evalue": "'XAxis' object has no attribute '_gridOnMajor'",
     "output_type": "error",
     "traceback": [
      "\u001b[0;31m---------------------------------------------------------------------------\u001b[0m",
      "\u001b[0;31mAttributeError\u001b[0m                            Traceback (most recent call last)",
      "Input \u001b[0;32mIn [13]\u001b[0m, in \u001b[0;36m<cell line: 64>\u001b[0;34m()\u001b[0m\n\u001b[1;32m     59\u001b[0m plt\u001b[38;5;241m.\u001b[39myticks(fontsize\u001b[38;5;241m=\u001b[39m\u001b[38;5;241m14\u001b[39m)\n\u001b[1;32m     61\u001b[0m \u001b[38;5;66;03m# Show plot\u001b[39;00m\n\u001b[1;32m     62\u001b[0m \u001b[38;5;66;03m# plt.tight_layout()\u001b[39;00m\n\u001b[1;32m     63\u001b[0m \u001b[38;5;66;03m# plt.show()\u001b[39;00m\n\u001b[0;32m---> 64\u001b[0m \u001b[43mmplleaflet\u001b[49m\u001b[38;5;241;43m.\u001b[39;49m\u001b[43mshow\u001b[49m\u001b[43m(\u001b[49m\u001b[43m)\u001b[49m\n",
      "File \u001b[0;32m~/.conda/envs/clim_data/lib/python3.10/site-packages/mplleaflet/_display.py:180\u001b[0m, in \u001b[0;36mshow\u001b[0;34m(fig, path, **kwargs)\u001b[0m\n\u001b[1;32m    178\u001b[0m fullpath \u001b[38;5;241m=\u001b[39m os\u001b[38;5;241m.\u001b[39mpath\u001b[38;5;241m.\u001b[39mabspath(path)\n\u001b[1;32m    179\u001b[0m \u001b[38;5;28;01mwith\u001b[39;00m \u001b[38;5;28mopen\u001b[39m(fullpath, \u001b[38;5;124m'\u001b[39m\u001b[38;5;124mw\u001b[39m\u001b[38;5;124m'\u001b[39m) \u001b[38;5;28;01mas\u001b[39;00m f:\n\u001b[0;32m--> 180\u001b[0m     \u001b[43msave_html\u001b[49m\u001b[43m(\u001b[49m\u001b[43mfig\u001b[49m\u001b[43m,\u001b[49m\u001b[43m \u001b[49m\u001b[43mfileobj\u001b[49m\u001b[38;5;241;43m=\u001b[39;49m\u001b[43mf\u001b[49m\u001b[43m,\u001b[49m\u001b[43m \u001b[49m\u001b[38;5;241;43m*\u001b[39;49m\u001b[38;5;241;43m*\u001b[39;49m\u001b[43mkwargs\u001b[49m\u001b[43m)\u001b[49m\n\u001b[1;32m    181\u001b[0m webbrowser\u001b[38;5;241m.\u001b[39mopen(\u001b[38;5;124m'\u001b[39m\u001b[38;5;124mfile://\u001b[39m\u001b[38;5;124m'\u001b[39m \u001b[38;5;241m+\u001b[39m fullpath)\n",
      "File \u001b[0;32m~/.conda/envs/clim_data/lib/python3.10/site-packages/mplleaflet/_display.py:131\u001b[0m, in \u001b[0;36msave_html\u001b[0;34m(fig, fileobj, **kwargs)\u001b[0m\n\u001b[1;32m    129\u001b[0m \u001b[38;5;28;01mif\u001b[39;00m \u001b[38;5;129;01mnot\u001b[39;00m \u001b[38;5;28mhasattr\u001b[39m(fileobj, \u001b[38;5;124m'\u001b[39m\u001b[38;5;124mwrite\u001b[39m\u001b[38;5;124m'\u001b[39m):\n\u001b[1;32m    130\u001b[0m     \u001b[38;5;28;01mraise\u001b[39;00m \u001b[38;5;167;01mValueError\u001b[39;00m(\u001b[38;5;124m\"\u001b[39m\u001b[38;5;124mfileobj should be a filename or a writable file\u001b[39m\u001b[38;5;124m\"\u001b[39m)\n\u001b[0;32m--> 131\u001b[0m html \u001b[38;5;241m=\u001b[39m \u001b[43mfig_to_html\u001b[49m\u001b[43m(\u001b[49m\u001b[43mfig\u001b[49m\u001b[43m,\u001b[49m\u001b[43m \u001b[49m\u001b[38;5;241;43m*\u001b[39;49m\u001b[38;5;241;43m*\u001b[39;49m\u001b[43mkwargs\u001b[49m\u001b[43m)\u001b[49m\n\u001b[1;32m    132\u001b[0m fileobj\u001b[38;5;241m.\u001b[39mwrite(html)\n\u001b[1;32m    133\u001b[0m fileobj\u001b[38;5;241m.\u001b[39mclose()\n",
      "File \u001b[0;32m~/.conda/envs/clim_data/lib/python3.10/site-packages/mplleaflet/_display.py:84\u001b[0m, in \u001b[0;36mfig_to_html\u001b[0;34m(fig, template, tiles, crs, epsg, embed_links)\u001b[0m\n\u001b[1;32m     82\u001b[0m renderer \u001b[38;5;241m=\u001b[39m LeafletRenderer(crs\u001b[38;5;241m=\u001b[39mcrs, epsg\u001b[38;5;241m=\u001b[39mepsg)\n\u001b[1;32m     83\u001b[0m exporter \u001b[38;5;241m=\u001b[39m Exporter(renderer)\n\u001b[0;32m---> 84\u001b[0m \u001b[43mexporter\u001b[49m\u001b[38;5;241;43m.\u001b[39;49m\u001b[43mrun\u001b[49m\u001b[43m(\u001b[49m\u001b[43mfig\u001b[49m\u001b[43m)\u001b[49m\n\u001b[1;32m     86\u001b[0m attribution \u001b[38;5;241m=\u001b[39m _attribution \u001b[38;5;241m+\u001b[39m \u001b[38;5;124m'\u001b[39m\u001b[38;5;124m | \u001b[39m\u001b[38;5;124m'\u001b[39m \u001b[38;5;241m+\u001b[39m tiles[\u001b[38;5;241m1\u001b[39m]\n\u001b[1;32m     88\u001b[0m mapid \u001b[38;5;241m=\u001b[39m \u001b[38;5;28mstr\u001b[39m(uuid\u001b[38;5;241m.\u001b[39muuid4())\u001b[38;5;241m.\u001b[39mreplace(\u001b[38;5;124m'\u001b[39m\u001b[38;5;124m-\u001b[39m\u001b[38;5;124m'\u001b[39m, \u001b[38;5;124m'\u001b[39m\u001b[38;5;124m'\u001b[39m)\n",
      "File \u001b[0;32m~/.conda/envs/clim_data/lib/python3.10/site-packages/mplleaflet/mplexporter/exporter.py:51\u001b[0m, in \u001b[0;36mExporter.run\u001b[0;34m(self, fig)\u001b[0m\n\u001b[1;32m     49\u001b[0m     \u001b[38;5;28;01mimport\u001b[39;00m \u001b[38;5;21;01mmatplotlib\u001b[39;00m\u001b[38;5;21;01m.\u001b[39;00m\u001b[38;5;21;01mpyplot\u001b[39;00m \u001b[38;5;28;01mas\u001b[39;00m \u001b[38;5;21;01mplt\u001b[39;00m\n\u001b[1;32m     50\u001b[0m     plt\u001b[38;5;241m.\u001b[39mclose(fig)\n\u001b[0;32m---> 51\u001b[0m \u001b[38;5;28;43mself\u001b[39;49m\u001b[38;5;241;43m.\u001b[39;49m\u001b[43mcrawl_fig\u001b[49m\u001b[43m(\u001b[49m\u001b[43mfig\u001b[49m\u001b[43m)\u001b[49m\n",
      "File \u001b[0;32m~/.conda/envs/clim_data/lib/python3.10/site-packages/mplleaflet/mplexporter/exporter.py:118\u001b[0m, in \u001b[0;36mExporter.crawl_fig\u001b[0;34m(self, fig)\u001b[0m\n\u001b[1;32m    115\u001b[0m \u001b[38;5;28;01mwith\u001b[39;00m \u001b[38;5;28mself\u001b[39m\u001b[38;5;241m.\u001b[39mrenderer\u001b[38;5;241m.\u001b[39mdraw_figure(fig\u001b[38;5;241m=\u001b[39mfig,\n\u001b[1;32m    116\u001b[0m                                props\u001b[38;5;241m=\u001b[39mutils\u001b[38;5;241m.\u001b[39mget_figure_properties(fig)):\n\u001b[1;32m    117\u001b[0m     \u001b[38;5;28;01mfor\u001b[39;00m ax \u001b[38;5;129;01min\u001b[39;00m fig\u001b[38;5;241m.\u001b[39maxes:\n\u001b[0;32m--> 118\u001b[0m         \u001b[38;5;28;43mself\u001b[39;49m\u001b[38;5;241;43m.\u001b[39;49m\u001b[43mcrawl_ax\u001b[49m\u001b[43m(\u001b[49m\u001b[43max\u001b[49m\u001b[43m)\u001b[49m\n",
      "File \u001b[0;32m~/.conda/envs/clim_data/lib/python3.10/site-packages/mplleaflet/mplexporter/exporter.py:123\u001b[0m, in \u001b[0;36mExporter.crawl_ax\u001b[0;34m(self, ax)\u001b[0m\n\u001b[1;32m    120\u001b[0m \u001b[38;5;28;01mdef\u001b[39;00m \u001b[38;5;21mcrawl_ax\u001b[39m(\u001b[38;5;28mself\u001b[39m, ax):\n\u001b[1;32m    121\u001b[0m     \u001b[38;5;124;03m\"\"\"Crawl the axes and process all elements within\"\"\"\u001b[39;00m\n\u001b[1;32m    122\u001b[0m     \u001b[38;5;28;01mwith\u001b[39;00m \u001b[38;5;28mself\u001b[39m\u001b[38;5;241m.\u001b[39mrenderer\u001b[38;5;241m.\u001b[39mdraw_axes(ax\u001b[38;5;241m=\u001b[39max,\n\u001b[0;32m--> 123\u001b[0m                                  props\u001b[38;5;241m=\u001b[39m\u001b[43mutils\u001b[49m\u001b[38;5;241;43m.\u001b[39;49m\u001b[43mget_axes_properties\u001b[49m\u001b[43m(\u001b[49m\u001b[43max\u001b[49m\u001b[43m)\u001b[49m):\n\u001b[1;32m    124\u001b[0m         \u001b[38;5;28;01mfor\u001b[39;00m line \u001b[38;5;129;01min\u001b[39;00m ax\u001b[38;5;241m.\u001b[39mlines:\n\u001b[1;32m    125\u001b[0m             \u001b[38;5;28mself\u001b[39m\u001b[38;5;241m.\u001b[39mdraw_line(ax, line)\n",
      "File \u001b[0;32m~/.conda/envs/clim_data/lib/python3.10/site-packages/mplleaflet/mplexporter/utils.py:267\u001b[0m, in \u001b[0;36mget_axes_properties\u001b[0;34m(ax)\u001b[0m\n\u001b[1;32m    259\u001b[0m \u001b[38;5;28;01mdef\u001b[39;00m \u001b[38;5;21mget_axes_properties\u001b[39m(ax):\n\u001b[1;32m    260\u001b[0m     props \u001b[38;5;241m=\u001b[39m {\u001b[38;5;124m'\u001b[39m\u001b[38;5;124maxesbg\u001b[39m\u001b[38;5;124m'\u001b[39m: color_to_hex(ax\u001b[38;5;241m.\u001b[39mpatch\u001b[38;5;241m.\u001b[39mget_facecolor()),\n\u001b[1;32m    261\u001b[0m              \u001b[38;5;124m'\u001b[39m\u001b[38;5;124maxesbgalpha\u001b[39m\u001b[38;5;124m'\u001b[39m: ax\u001b[38;5;241m.\u001b[39mpatch\u001b[38;5;241m.\u001b[39mget_alpha(),\n\u001b[1;32m    262\u001b[0m              \u001b[38;5;124m'\u001b[39m\u001b[38;5;124mbounds\u001b[39m\u001b[38;5;124m'\u001b[39m: ax\u001b[38;5;241m.\u001b[39mget_position()\u001b[38;5;241m.\u001b[39mbounds,\n\u001b[1;32m    263\u001b[0m              \u001b[38;5;124m'\u001b[39m\u001b[38;5;124mdynamic\u001b[39m\u001b[38;5;124m'\u001b[39m: ax\u001b[38;5;241m.\u001b[39mget_navigate(),\n\u001b[1;32m    264\u001b[0m              \u001b[38;5;124m'\u001b[39m\u001b[38;5;124maxison\u001b[39m\u001b[38;5;124m'\u001b[39m: ax\u001b[38;5;241m.\u001b[39maxison,\n\u001b[1;32m    265\u001b[0m              \u001b[38;5;124m'\u001b[39m\u001b[38;5;124mframe_on\u001b[39m\u001b[38;5;124m'\u001b[39m: ax\u001b[38;5;241m.\u001b[39mget_frame_on(),\n\u001b[1;32m    266\u001b[0m              \u001b[38;5;124m'\u001b[39m\u001b[38;5;124mpatch_visible\u001b[39m\u001b[38;5;124m'\u001b[39m:ax\u001b[38;5;241m.\u001b[39mpatch\u001b[38;5;241m.\u001b[39mget_visible(),\n\u001b[0;32m--> 267\u001b[0m              \u001b[38;5;124m'\u001b[39m\u001b[38;5;124maxes\u001b[39m\u001b[38;5;124m'\u001b[39m: [\u001b[43mget_axis_properties\u001b[49m\u001b[43m(\u001b[49m\u001b[43max\u001b[49m\u001b[38;5;241;43m.\u001b[39;49m\u001b[43mxaxis\u001b[49m\u001b[43m)\u001b[49m,\n\u001b[1;32m    268\u001b[0m                       get_axis_properties(ax\u001b[38;5;241m.\u001b[39myaxis)]}\n\u001b[1;32m    270\u001b[0m     \u001b[38;5;28;01mfor\u001b[39;00m axname \u001b[38;5;129;01min\u001b[39;00m [\u001b[38;5;124m'\u001b[39m\u001b[38;5;124mx\u001b[39m\u001b[38;5;124m'\u001b[39m, \u001b[38;5;124m'\u001b[39m\u001b[38;5;124my\u001b[39m\u001b[38;5;124m'\u001b[39m]:\n\u001b[1;32m    271\u001b[0m         axis \u001b[38;5;241m=\u001b[39m \u001b[38;5;28mgetattr\u001b[39m(ax, axname \u001b[38;5;241m+\u001b[39m \u001b[38;5;124m'\u001b[39m\u001b[38;5;124maxis\u001b[39m\u001b[38;5;124m'\u001b[39m)\n",
      "File \u001b[0;32m~/.conda/envs/clim_data/lib/python3.10/site-packages/mplleaflet/mplexporter/utils.py:231\u001b[0m, in \u001b[0;36mget_axis_properties\u001b[0;34m(axis)\u001b[0m\n\u001b[1;32m    228\u001b[0m     props[\u001b[38;5;124m'\u001b[39m\u001b[38;5;124mfontsize\u001b[39m\u001b[38;5;124m'\u001b[39m] \u001b[38;5;241m=\u001b[39m \u001b[38;5;28;01mNone\u001b[39;00m\n\u001b[1;32m    230\u001b[0m \u001b[38;5;66;03m# Get associated grid\u001b[39;00m\n\u001b[0;32m--> 231\u001b[0m props[\u001b[38;5;124m'\u001b[39m\u001b[38;5;124mgrid\u001b[39m\u001b[38;5;124m'\u001b[39m] \u001b[38;5;241m=\u001b[39m \u001b[43mget_grid_style\u001b[49m\u001b[43m(\u001b[49m\u001b[43maxis\u001b[49m\u001b[43m)\u001b[49m\n\u001b[1;32m    233\u001b[0m \u001b[38;5;66;03m# get axis visibility\u001b[39;00m\n\u001b[1;32m    234\u001b[0m props[\u001b[38;5;124m'\u001b[39m\u001b[38;5;124mvisible\u001b[39m\u001b[38;5;124m'\u001b[39m] \u001b[38;5;241m=\u001b[39m axis\u001b[38;5;241m.\u001b[39mget_visible()\n",
      "File \u001b[0;32m~/.conda/envs/clim_data/lib/python3.10/site-packages/mplleaflet/mplexporter/utils.py:241\u001b[0m, in \u001b[0;36mget_grid_style\u001b[0;34m(axis)\u001b[0m\n\u001b[1;32m    239\u001b[0m \u001b[38;5;28;01mdef\u001b[39;00m \u001b[38;5;21mget_grid_style\u001b[39m(axis):\n\u001b[1;32m    240\u001b[0m     gridlines \u001b[38;5;241m=\u001b[39m axis\u001b[38;5;241m.\u001b[39mget_gridlines()\n\u001b[0;32m--> 241\u001b[0m     \u001b[38;5;28;01mif\u001b[39;00m \u001b[43maxis\u001b[49m\u001b[38;5;241;43m.\u001b[39;49m\u001b[43m_gridOnMajor\u001b[49m \u001b[38;5;129;01mand\u001b[39;00m \u001b[38;5;28mlen\u001b[39m(gridlines) \u001b[38;5;241m>\u001b[39m \u001b[38;5;241m0\u001b[39m:\n\u001b[1;32m    242\u001b[0m         color \u001b[38;5;241m=\u001b[39m color_to_hex(gridlines[\u001b[38;5;241m0\u001b[39m]\u001b[38;5;241m.\u001b[39mget_color())\n\u001b[1;32m    243\u001b[0m         alpha \u001b[38;5;241m=\u001b[39m gridlines[\u001b[38;5;241m0\u001b[39m]\u001b[38;5;241m.\u001b[39mget_alpha()\n",
      "\u001b[0;31mAttributeError\u001b[0m: 'XAxis' object has no attribute '_gridOnMajor'"
     ]
    }
   ],
   "source": [
    "# Generate figure (set its size (width, height) in inches)\n",
    "fig = plt.figure(figsize=(12, 6))\n",
    "\n",
    "# Generate axes using Cartopy projection\n",
    "projection = ccrs.PlateCarree()\n",
    "ax = plt.axes(projection=projection)\n",
    "\n",
    "# Draw land\n",
    "ax.add_feature(cfeature.LAND, color='silver')\n",
    "\n",
    "# Define the contour levels\n",
    "levels = np.arange(-12, 41, 4)\n",
    "\n",
    "# Draw contour lines\n",
    "contour = ds.U.plot.contour(\n",
    "    ax=ax,\n",
    "    levels=levels,\n",
    "    xticks=np.arange(-180, 181, 30),  # nice x ticks\n",
    "    yticks=np.arange(-90, 91, 30),  # nice y ticks\n",
    "    transform=projection,  # ds projection\n",
    "    add_labels=False,  # turn off xarray's automatic Lat, lon labels\n",
    "    colors=\"black\",  # note plurals in this and following kwargs\n",
    "    linestyles=\"-\",\n",
    "    linewidths=0.5)\n",
    "\n",
    "# Label the contours and set axes title\n",
    "ax.clabel(contour, [-8, 0, 8, 16, 24, 32], fontsize=12, fmt=\"%.0f\")\n",
    "\n",
    "# Add lower text box\n",
    "ax.text(0.995,\n",
    "        -0.13,\n",
    "        \"CONTOUR FROM -12 TO 40 BY 4\",\n",
    "        horizontalalignment='right',\n",
    "        transform=ax.transAxes,\n",
    "        fontsize=14,\n",
    "        bbox=dict(boxstyle='square, pad=0.25',\n",
    "                  facecolor='white',\n",
    "                  edgecolor='black'))\n",
    "\n",
    "# Use geocat.viz.util convenience function to add minor and major tick lines\n",
    "# gv.add_major_minor_ticks(ax)\n",
    "\n",
    "# Use geocat.viz.util convenience function to make plots look like NCL plots by using latitude, longitude tick labels\n",
    "# gv.add_lat_lon_ticklabels(ax)\n",
    "\n",
    "# Removing degree symbol from tick labels to resemble NCL example\n",
    "# ax.yaxis.set_major_formatter(LatitudeFormatter(degree_symbol=''))\n",
    "# ax.xaxis.set_major_formatter(LongitudeFormatter(degree_symbol=''))\n",
    "\n",
    "# Use geocat.viz.util convenience function to add left and right title to the plot axes.\n",
    "# gv.set_titles_and_labels(ax,\n",
    "                        #  lefttitle=\"Zonal Wind\",\n",
    "                        #  lefttitlefontsize=16,\n",
    "                        #  righttitle=ds.U.units,\n",
    "                        #  righttitlefontsize=16)\n",
    "\n",
    "# Set ticklabel fontsize\n",
    "plt.xticks(fontsize=14)\n",
    "plt.yticks(fontsize=14)\n",
    "\n",
    "# Show plot\n",
    "# plt.tight_layout()\n",
    "# plt.show()\n",
    "mplleaflet.show()"
   ]
  }
 ],
 "metadata": {
  "kernelspec": {
   "display_name": "clim_data",
   "language": "python",
   "name": "clim_data"
  },
  "language_info": {
   "codemirror_mode": {
    "name": "ipython",
    "version": 3
   },
   "file_extension": ".py",
   "mimetype": "text/x-python",
   "name": "python",
   "nbconvert_exporter": "python",
   "pygments_lexer": "ipython3",
   "version": "3.10.4"
  }
 },
 "nbformat": 4,
 "nbformat_minor": 2
}
